{
 "cells": [
  {
   "cell_type": "code",
   "execution_count": null,
   "metadata": {
    "collapsed": false
   },
   "outputs": [],
   "source": [
    "%matplotlib inline\n",
    "from mshr import *\n",
    "from math import sin, cos, pi\n",
    " \n",
    "a = 1.0   # inner radius\n",
    "b = 1.5   # outer radius\n",
    "c = 2.0   # height\n",
    " \n",
    "# Define geometry for iron cylinder\n",
    "cylinder = Circle(Point(0, 0), b) - Circle(Point(0, 0), a)\n",
    "rectangle = Rectangle(Point(-4, 0), Point(4, 4))\n",
    "left = Rectangle(Point(-b,0), Point(-))\n",
    "\n",
    "# Create mesh\n",
    "mesh = generate_mesh(cylinder + rectangle, 10)\n",
    "plot(mesh)"
   ]
  }
 ],
 "metadata": {
  "kernelspec": {
   "display_name": "Python 2",
   "language": "python",
   "name": "python2"
  },
  "language_info": {
   "codemirror_mode": {
    "name": "ipython",
    "version": 2
   },
   "file_extension": ".py",
   "mimetype": "text/x-python",
   "name": "python",
   "nbconvert_exporter": "python",
   "pygments_lexer": "ipython2",
   "version": "2.7.12"
  }
 },
 "nbformat": 4,
 "nbformat_minor": 1
}

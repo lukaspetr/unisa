{
 "cells": [
  {
   "cell_type": "code",
   "execution_count": 36,
   "metadata": {
    "collapsed": true
   },
   "outputs": [],
   "source": [
    "%matplotlib inline"
   ]
  },
  {
   "cell_type": "code",
   "execution_count": null,
   "metadata": {
    "collapsed": false
   },
   "outputs": [],
   "source": [
    "from fenics import *\n",
    "from mshr import *\n",
    "from math import pi, sin, cos, sqrt\n",
    "from IPython.display import HTML"
   ]
  },
  {
   "cell_type": "code",
   "execution_count": null,
   "metadata": {
    "collapsed": false
   },
   "outputs": [],
   "source": [
    "region = Rectangle(Point(0,0), Point(1,1))\n",
    "\n",
    "a = 0.1   # inner radius\n",
    "b = 0.2   # outer radius\n",
    "c = 0.2   # height\n",
    "\n",
    "lower = Circle(Point(0.5, 0.5),b,20) - Circle(Point(0.5, 0.5),a,20) - Rectangle(Point(0,0.5), Point(1,1))\n",
    "left  = Rectangle(Point(0.5-b,0.5), Point(0.5-a,0.5+c))\n",
    "right = Rectangle(Point(0.5+a,0.5), Point(0.5+b,0.5+c))\n",
    "U = lower + left + right\n",
    "\n",
    "# Create mesh\n",
    "mesh = generate_mesh(region - U, 10)\n",
    "plot(mesh)"
   ]
  },
  {
   "cell_type": "code",
   "execution_count": 35,
   "metadata": {
    "collapsed": false
   },
   "outputs": [],
   "source": [
    "# Parameters\n",
    "R = 1.1\n",
    "r = 0.4\n",
    "t = 10\n",
    "x = R*cos(float(t) / 180 * pi)\n",
    "y = 0\n",
    "z = R*sin(t)\n",
    " \n",
    "# Create geometry\n",
    "s1 = Sphere(Point(0, 0, 0), 1)\n",
    "s2 = Sphere(Point(x, y, z), r, 50)\n",
    "b1 = Box(Point(-2, -2, -0.05), Point(2, 2, 0.05))\n",
    "geometry = s1 - s2 - b1\n",
    " \n",
    "# Create mesh\n",
    "mesh = generate_mesh(geometry, 20)"
   ]
  },
  {
   "cell_type": "code",
   "execution_count": 34,
   "metadata": {
    "collapsed": false
   },
   "outputs": [],
   "source": [
    "HTML(X3DOM().html(mesh))"
   ]
  }
 ],
 "metadata": {
  "kernelspec": {
   "display_name": "Python 2",
   "language": "python",
   "name": "python2"
  },
  "language_info": {
   "codemirror_mode": {
    "name": "ipython",
    "version": 2
   },
   "file_extension": ".py",
   "mimetype": "text/x-python",
   "name": "python",
   "nbconvert_exporter": "python",
   "pygments_lexer": "ipython2",
   "version": "2.7.12"
  }
 },
 "nbformat": 4,
 "nbformat_minor": 1
}

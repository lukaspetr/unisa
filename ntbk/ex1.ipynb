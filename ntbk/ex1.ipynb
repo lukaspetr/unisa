{
 "cells": [
  {
   "cell_type": "code",
   "execution_count": null,
   "metadata": {
    "collapsed": false
   },
   "outputs": [],
   "source": [
    "%matplotlib notebook\n",
    "from dolfin import *"
   ]
  },
  {
   "cell_type": "code",
   "execution_count": null,
   "metadata": {
    "collapsed": false
   },
   "outputs": [],
   "source": [
    "# Define mesh and geometry\n",
    "mesh = Mesh (\"dolfin-2.xml.gz\")\n",
    "plot(mesh)\n",
    "n = FacetNormal(mesh)\n",
    "# Define Taylor - - Hood function space W\n",
    "V = VectorFunctionSpace(mesh, \"CG\", 2)\n",
    "Q = FunctionSpace(mesh ,\"CG\", 1)\n",
    "W = V * Q\n",
    "# Define Function and TestFunction (s)\n",
    "w = Function(W)\n",
    "(u, p) = split (w)\n",
    "(v, q) = TestFunctions(W)\n",
    "# Define viscosity and bcs\n",
    "nu = Expression(\"0.2*(1+ pow(x[1] ,2))\", degree = 2 )\n",
    "p0 = Expression(\"1.0-x[0]\", degree = 1 )\n",
    "bcs = DirichletBC(W.sub(0), (0.0, 0.0), \" on_boundary && !( near (x[0] , 0.0) || near (x[0] , 1.0))\")\n",
    "# Define variational form\n",
    "epsilon = sym(grad(u))\n",
    "F = (nu*inner(epsilon, grad(v)) - div(u) * q - div(v) * p)*dx + p0 * dot (v, n)*ds\n",
    "# Solve problem\n",
    "solve(F == 0, w, bcs)\n",
    "# Plot solutions\n",
    "plot(u , title =\" Velocity \", interactive = True )\n",
    "plot(p , title =\" Pressure \", interactive = True )\n"
   ]
  },
  {
   "cell_type": "code",
   "execution_count": null,
   "metadata": {
    "collapsed": true
   },
   "outputs": [],
   "source": []
  }
 ],
 "metadata": {
  "kernelspec": {
   "display_name": "Python 2",
   "language": "python",
   "name": "python2"
  },
  "language_info": {
   "codemirror_mode": {
    "name": "ipython",
    "version": 2
   },
   "file_extension": ".py",
   "mimetype": "text/x-python",
   "name": "python",
   "nbconvert_exporter": "python",
   "pygments_lexer": "ipython2",
   "version": "2.7.12"
  }
 },
 "nbformat": 4,
 "nbformat_minor": 1
}

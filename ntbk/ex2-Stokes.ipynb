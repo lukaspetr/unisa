{
 "cells": [
  {
   "cell_type": "code",
   "execution_count": null,
   "metadata": {
    "collapsed": false
   },
   "outputs": [],
   "source": [
    "%matplotlib notebook\n",
    "from dolfin import *"
   ]
  },
  {
   "cell_type": "code",
   "execution_count": null,
   "metadata": {
    "collapsed": false,
    "scrolled": true
   },
   "outputs": [],
   "source": [
    "# Define mesh and unit outer normal n\n",
    "mesh = Mesh(\"local/share/dolfin/demo/documented/stokes-taylor-hood/dolfin_fine.xml.gz\")\n",
    "n = FacetNormal(mesh)"
   ]
  },
  {
   "cell_type": "code",
   "execution_count": null,
   "metadata": {
    "collapsed": false
   },
   "outputs": [],
   "source": [
    "# Define Taylor - Hood function space W\n",
    "P2 = VectorElement(\"Lagrange\", mesh.ufl_cell(), 2)\n",
    "P1 = FiniteElement(\"Lagrange\", mesh.ufl_cell(), 1)\n",
    "TH = P2 * P1\n",
    "W = FunctionSpace(mesh, TH)"
   ]
  },
  {
   "cell_type": "code",
   "execution_count": null,
   "metadata": {
    "collapsed": false
   },
   "outputs": [],
   "source": [
    "# Define Function and TestFunction (s)\n",
    "w = Function(W)\n",
    "(u, p) = split(w)\n",
    "(v, q) = TestFunctions(W)"
   ]
  },
  {
   "cell_type": "code",
   "execution_count": null,
   "metadata": {
    "collapsed": false
   },
   "outputs": [],
   "source": [
    "# Define viscosity, pressure, and bcs\n",
    "nu = Expression(\"0.2*(1+ pow(x[1] ,2))\", degree = 2)\n",
    "p0 = Expression(\"1.0-x[0]\", degree = 1)\n",
    "noslip = Constant((0, 0))\n",
    "def boundary(x):\n",
    "    return near(x[0],0.0) or near(x[0],1.0)\n",
    "bcs = DirichletBC(W.sub(0), noslip, boundary)"
   ]
  },
  {
   "cell_type": "markdown",
   "metadata": {},
   "source": [
    "$F(w;y) = \\int_\\Omega \\nu\\epsilon(u) \\cdot \\nabla v \\, \\mathrm{d}x\n",
    "                - \\int_\\Omega p \\nabla\\cdot v \\, \\mathrm{d}x\n",
    "                - \\int_\\Omega \\nabla\\cdot u \\, q \\, \\mathrm{d}x\n",
    "                + \\int_{\\partial\\Omega} p_0 v \\cdot n \\, \\mathrm{d}s$\n",
    "                \n",
    "Define `F` now using `inner()`, `grad()`, `div()`, `dot()`, `dx`, `ds`:"
   ]
  },
  {
   "cell_type": "code",
   "execution_count": null,
   "metadata": {
    "collapsed": false
   },
   "outputs": [],
   "source": [
    "# Define variational form\n",
    "epsilon = sym(grad(u))\n",
    "F = ..."
   ]
  },
  {
   "cell_type": "markdown",
   "metadata": {},
   "source": [
    "Please fill in the equation you are solving as a first parameter:"
   ]
  },
  {
   "cell_type": "code",
   "execution_count": null,
   "metadata": {
    "collapsed": false
   },
   "outputs": [],
   "source": [
    "# Solve problem\n",
    "solve(..., w, bcs)"
   ]
  },
  {
   "cell_type": "code",
   "execution_count": null,
   "metadata": {
    "collapsed": false
   },
   "outputs": [],
   "source": [
    "# Plot solution\n",
    "plot(p)"
   ]
  }
 ],
 "metadata": {
  "kernelspec": {
   "display_name": "Python 2",
   "language": "python",
   "name": "python2"
  },
  "language_info": {
   "codemirror_mode": {
    "name": "ipython",
    "version": 2
   },
   "file_extension": ".py",
   "mimetype": "text/x-python",
   "name": "python",
   "nbconvert_exporter": "python",
   "pygments_lexer": "ipython2",
   "version": "2.7.12"
  }
 },
 "nbformat": 4,
 "nbformat_minor": 1
}
